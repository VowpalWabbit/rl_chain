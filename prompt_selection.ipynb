{
 "cells": [
  {
   "cell_type": "markdown",
   "metadata": {},
   "source": [
    "# Prepare core llm chain"
   ]
  },
  {
   "cell_type": "code",
   "execution_count": 2,
   "metadata": {},
   "outputs": [
    {
     "data": {
      "text/plain": [
       "'As an AI language model, I am always ready to assist you. How may I help you today?'"
      ]
     },
     "execution_count": 2,
     "metadata": {},
     "output_type": "execute_result"
    }
   ],
   "source": [
    "import langchain\n",
    "langchain.debug = False # set to True if  you want to see what the LLM is doing\n",
    "\n",
    "from langchain.chat_models import AzureChatOpenAI\n",
    "\n",
    "import dotenv\n",
    "dotenv.load_dotenv()\n",
    "\n",
    "llm = AzureChatOpenAI(\n",
    "    deployment_name=\"gpt-35-turbo\",\n",
    "    temperature=0,\n",
    "    request_timeout=20,\n",
    "    max_retries=1,\n",
    "    client=None,\n",
    ")\n",
    "\n",
    "llm.predict('Are you ready?')"
   ]
  },
  {
   "cell_type": "code",
   "execution_count": 3,
   "metadata": {},
   "outputs": [
    {
     "name": "stderr",
     "output_type": "stream",
     "text": [
      "2023-07-18 10:35:37,344 - personalizer - INFO - next model checkpoint = 1\n",
      "2023-07-18 10:35:37,345 - personalizer - INFO - vw command: ['--slates', '--quiet', '--interactions=AC', '--coin', '--squarecb']\n"
     ]
    },
    {
     "data": {
      "text/plain": [
       "'Once upon a time, there were six friends who lived in New York City. They were always getting into hilarious situations, but one day they decided to play a game of \"Never Have I Ever.\"\\n\\nAs they went around the circle, each friend revealed some pretty wild things they had never done before. Joey had never ridden a rollercoaster, Chandler had never been to a strip club, and Ross had never eaten a sandwich without mayonnaise.\\n\\nBut when it was Rachel\\'s turn, she said, \"Never have I ever watched an entire episode of Friends.\"\\n\\nThe room fell silent as the other five friends stared at her in shock. \"What?!\" exclaimed Monica. \"How is that even possible?\"\\n\\nRachel shrugged. \"I don\\'t know, I just never got into it.\"\\n\\nThe friends were determined to change that. They spent the next few days binge-watching every episode of Friends with Rachel, making sure she didn\\'t miss a single moment of their hilarious antics.\\n\\nAs they watched, Rachel couldn\\'t help but laugh at all the ridiculous situations they found themselves in. From Ross\\'s infamous \"pivot\" scene to Joey\\'s love for sandwiches, she was hooked.\\n\\nBy the time they finished the series, Rachel was a true Friends fan. She even started quoting some of their catchphrases, like \"We were on a break!\" and \"How you doin\\'?\"\\n\\nThe friends were thrilled to have converted Rachel into a Friends fanatic, but they couldn\\'t help but wonder what other crazy things she had never done before. They decided to play another round of \"Never Have I Ever,\" and this time, they were in for a real surprise.\\n\\n\"Never have I ever eaten a slice of pizza,\" Rachel said with a grin.\\n\\nThe friends gasped in disbelief. \"What?!\" they exclaimed. \"We have to fix that right now!\"\\n\\nAnd so, they headed out to their favorite pizza place, ready to introduce Rachel to the wonders of New York-style pizza. As they sat around the table, laughing and joking, they knew that their friendship would always be filled with hilarious moments and unforgettable memories.'"
      ]
     },
     "execution_count": 3,
     "metadata": {},
     "output_type": "execute_result"
    }
   ],
   "source": [
    "from personalizer import *\n",
    "from response_checker import *\n",
    "from langchain.prompts.prompt import PromptTemplate\n",
    "\n",
    "template = \"\"\"\n",
    "{prefix}\n",
    "{goal}: {context}.\n",
    "{suffix}\n",
    "\"\"\"\n",
    "prompt = PromptTemplate(\n",
    "    input_variables=[\"prefix\", \"goal\", \"context\", \"suffix\"],\n",
    "    template=template,\n",
    ")\n",
    "chain = PersonalizerChain.from_llm(\n",
    "    llm=llm,\n",
    "    vw_workspace_type=PersonalizerChain.Type.SLATES,\n",
    "    model_save_dir=\"./models\",  # where to save the model checkpoints\n",
    "    prompt = prompt,\n",
    "    response_checker = LLMResponseCheckerForSlates(\n",
    "        llm,\n",
    "        prompt = ChatPromptTemplate.from_messages(\n",
    "                [\n",
    "                    LLMResponseCheckerForSlates.default_system_prompt,\n",
    "                    HumanMessagePromptTemplate.from_template(\n",
    "                        '''Given the task:\n",
    "                           {goal}: {context}\n",
    "                           rank how good or bad this response is:\n",
    "                           {llm_response}.'''\n",
    "                    )]\n",
    "    ))\n",
    ")\n",
    "chain.run({\n",
    "    'prefix': [f'ALWAYS DO EXACTLY WHAT I ASK YOU!', 'Please do your best to help me.'],\n",
    "    'goal': 'Write a funny story about',\n",
    "    'context': 'Friends series',\n",
    "    'suffix': ['Please try to be as funny as possible.', '']})\n"
   ]
  },
  {
   "cell_type": "code",
   "execution_count": null,
   "metadata": {},
   "outputs": [],
   "source": [
    "from personalizer import *\n",
    "from langchain.prompts.prompt import PromptTemplate\n",
    "\n",
    "template = \"\"\"\n",
    "{prefix}\n",
    "{goal}: {context}.\n",
    "{suffix}\n",
    "\"\"\"\n",
    "prompt = PromptTemplate(\n",
    "    input_variables=[\"prefix\", \"goal\", \"context\", \"suffix\"],\n",
    "    template=template,\n",
    ")\n",
    "chain = PersonalizerChain.from_llm(\n",
    "    llm=llm,\n",
    "    vw_workspace_type=PersonalizerChain.Type.SLATES,\n",
    "    model_save_dir=\"./models\",  # where to save the model checkpoints\n",
    "    prompt = prompt,\n",
    "    response_checker = LLMResponseCheckerForSlates(\n",
    "        llm,\n",
    "        prompt = ChatPromptTemplate.from_messages(\n",
    "                [\n",
    "                    LLMResponseCheckerForSlates.default_system_prompt,\n",
    "                    HumanMessagePromptTemplate.from_template(\n",
    "                        '''Given the task:\n",
    "                           {goal}: {context}\n",
    "                           rank how good or bad this response is:\n",
    "                           {llm_response}.'''\n",
    "                    )]\n",
    "    ))\n",
    ")\n",
    "chain.run({\n",
    "    'prefix': Embed([f'ALWAYS DO EXACTLY WHAT I ASK YOU!', 'Please do your best to help me.']),\n",
    "    'goal': Embed('Write a funny story about'),\n",
    "    'context': 'Friends series',\n",
    "    'suffix': ['Please try to be as funny as possible.', '']})"
   ]
  }
 ],
 "metadata": {
  "kernelspec": {
   "display_name": "Python 3",
   "language": "python",
   "name": "python3"
  },
  "language_info": {
   "codemirror_mode": {
    "name": "ipython",
    "version": 3
   },
   "file_extension": ".py",
   "mimetype": "text/x-python",
   "name": "python",
   "nbconvert_exporter": "python",
   "pygments_lexer": "ipython3",
   "version": "3.10.11"
  },
  "orig_nbformat": 4
 },
 "nbformat": 4,
 "nbformat_minor": 2
}
