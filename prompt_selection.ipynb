{
 "cells": [
  {
   "cell_type": "markdown",
   "metadata": {},
   "source": [
    "# Prepare core llm chain"
   ]
  },
  {
   "cell_type": "code",
   "execution_count": null,
   "metadata": {},
   "outputs": [],
   "source": [
    "import langchain\n",
    "langchain.debug = False # set to True if  you want to see what the LLM is doing\n",
    "\n",
    "from langchain.chat_models import AzureChatOpenAI\n",
    "\n",
    "import dotenv\n",
    "dotenv.load_dotenv()\n",
    "\n",
    "llm = AzureChatOpenAI(\n",
    "    deployment_name=\"gpt-35-turbo\",\n",
    "    temperature=0,\n",
    "    request_timeout=20,\n",
    "    max_retries=1,\n",
    "    client=None,\n",
    ")\n",
    "\n",
    "llm.predict('Are you ready?')"
   ]
  },
  {
   "cell_type": "code",
   "execution_count": null,
   "metadata": {},
   "outputs": [],
   "source": [
    "from personalizer import *\n",
    "from langchain.prompts.prompt import PromptTemplate\n",
    "\n",
    "template = \"\"\"\n",
    "{prefix}\n",
    "{goal}: {context}.\n",
    "{suffix}\n",
    "\"\"\"\n",
    "prompt = PromptTemplate(\n",
    "    input_variables=[\"prefix\", \"goal\", \"context\", \"suffix\"],\n",
    "    template=template,\n",
    ")\n",
    "chain = PersonalizerChain.from_llm(\n",
    "    llm=llm,\n",
    "    vw_workspace_type=PersonalizerChain.Type.SLATES,\n",
    "    model_save_dir=\"./models\",  # where to save the model checkpoints\n",
    "    prompt = prompt,\n",
    "    response_checker = None, #TODO\n",
    ")\n",
    "chain.run({\n",
    "    'prefix': [f'ALWAYS DO EXACTLY WHAT I ASK YOU!', 'Please do your best to help me.'],\n",
    "    'goal': 'Write a funny story about',\n",
    "    'context': 'Friends series',\n",
    "    'suffix': ['Please try to be as funny as possible.', '']})\n"
   ]
  },
  {
   "cell_type": "code",
   "execution_count": null,
   "metadata": {},
   "outputs": [],
   "source": [
    "from personalizer import *\n",
    "from langchain.prompts.prompt import PromptTemplate\n",
    "\n",
    "template = \"\"\"\n",
    "{prefix}\n",
    "{goal}: {context}.\n",
    "{suffix}\n",
    "\"\"\"\n",
    "prompt = PromptTemplate(\n",
    "    input_variables=[\"prefix\", \"goal\", \"context\", \"suffix\"],\n",
    "    template=template,\n",
    ")\n",
    "chain = PersonalizerChain.from_llm(\n",
    "    llm=llm,\n",
    "    vw_workspace_type=PersonalizerChain.Type.SLATES,\n",
    "    model_save_dir=\"./models\",  # where to save the model checkpoints\n",
    "    prompt = prompt,\n",
    "    response_checker = None, #TODO\n",
    ")\n",
    "chain.run({\n",
    "    'prefix': Embed([f'ALWAYS DO EXACTLY WHAT I ASK YOU!', 'Please do your best to help me.']),\n",
    "    'goal': Embed('Write a funny story about'),\n",
    "    'context': 'Friends series',\n",
    "    'suffix': ['Please try to be as funny as possible.', '']})"
   ]
  },
  {
   "cell_type": "code",
   "execution_count": null,
   "metadata": {},
   "outputs": [],
   "source": []
  }
 ],
 "metadata": {
  "kernelspec": {
   "display_name": "Python 3",
   "language": "python",
   "name": "python3"
  },
  "language_info": {
   "codemirror_mode": {
    "name": "ipython",
    "version": 3
   },
   "file_extension": ".py",
   "mimetype": "text/x-python",
   "name": "python",
   "nbconvert_exporter": "python",
   "pygments_lexer": "ipython3",
   "version": "3.10.11"
  },
  "orig_nbformat": 4
 },
 "nbformat": 4,
 "nbformat_minor": 2
}
