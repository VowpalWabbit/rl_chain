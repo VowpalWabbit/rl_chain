{
 "cells": [
  {
   "cell_type": "markdown",
   "metadata": {},
   "source": [
    "# Prepare core llm chain"
   ]
  },
  {
   "cell_type": "code",
   "execution_count": null,
   "metadata": {},
   "outputs": [],
   "source": [
    "import langchain\n",
    "langchain.debug = False # set to True if  you want to see what the LLM is doing\n",
    "\n",
    "from langchain.chat_models import AzureChatOpenAI\n",
    "\n",
    "import dotenv\n",
    "dotenv.load_dotenv()\n",
    "\n",
    "llm = AzureChatOpenAI(\n",
    "    deployment_name=\"gpt-35-turbo\",\n",
    "    temperature=0,\n",
    "    request_timeout=20,\n",
    "    max_retries=1,\n",
    "    client=None,\n",
    ")\n",
    "\n",
    "llm.predict('Are you ready?')"
   ]
  },
  {
   "cell_type": "markdown",
   "metadata": {},
   "source": [
    "# Vanilla LLMChain"
   ]
  },
  {
   "cell_type": "code",
   "execution_count": null,
   "metadata": {},
   "outputs": [],
   "source": [
    "from langchain.chains.llm import LLMChain\n",
    "from langchain.prompts.prompt import PromptTemplate\n",
    "\n",
    "llm_chain = LLMChain(\n",
    "    llm = llm,\n",
    "    prompt = PromptTemplate(\n",
    "        input_variables=[\"adjective\", \"content\", \"topic\"],\n",
    "        template=\"Hi, please create {adjective} {content} about {topic}.\",\n",
    "    ))"
   ]
  },
  {
   "cell_type": "code",
   "execution_count": null,
   "metadata": {},
   "outputs": [],
   "source": [
    "llm_chain.run(\n",
    "    adjective = \"funny\",\n",
    "    content = \"poem\",\n",
    "    topic = \"machine learning\")"
   ]
  },
  {
   "cell_type": "markdown",
   "metadata": {},
   "source": [
    "# Variable selection"
   ]
  },
  {
   "cell_type": "code",
   "execution_count": null,
   "metadata": {},
   "outputs": [],
   "source": [
    "import rl_chain\n",
    "\n",
    "llm_chain = rl_chain.slates_chain.SlatesPersonalizerChain.from_llm(\n",
    "    llm=llm,\n",
    "    prompt = PromptTemplate(\n",
    "        input_variables=[\"adjective\", \"content\", \"topic\"],\n",
    "        template=\"Hi, please create {adjective} {content} about {topic}\",\n",
    "    ))"
   ]
  },
  {
   "cell_type": "code",
   "execution_count": null,
   "metadata": {},
   "outputs": [],
   "source": [
    "llm_chain.run(\n",
    "    adjective = rl_chain.ToSelectFrom([\"funny\"]),\n",
    "    content = rl_chain.ToSelectFrom([\"poem\"]),\n",
    "    topic = rl_chain.ToSelectFrom([\"machine learning\"]))"
   ]
  },
  {
   "cell_type": "markdown",
   "metadata": {},
   "source": [
    "It is ok to be uncertain about certain variable values"
   ]
  },
  {
   "cell_type": "code",
   "execution_count": null,
   "metadata": {},
   "outputs": [],
   "source": [
    "llm_chain.run(\n",
    "    adjective = rl_chain.ToSelectFrom([\"funny\", \"scary\"]),\n",
    "    content = rl_chain.ToSelectFrom([\"poem\"]),\n",
    "    topic = rl_chain.ToSelectFrom([\"machine learning\", \"cats\"]))"
   ]
  },
  {
   "cell_type": "markdown",
   "metadata": {},
   "source": [
    "# Full loop"
   ]
  },
  {
   "cell_type": "code",
   "execution_count": null,
   "metadata": {},
   "outputs": [],
   "source": [
    "import rl_chain\n",
    "from langchain.prompts.prompt import PromptTemplate\n",
    "from langchain.prompts import (\n",
    "    ChatPromptTemplate,\n",
    "    HumanMessagePromptTemplate,\n",
    ")\n",
    "\n",
    "template = \"\"\"\n",
    "using style {style}\n",
    "\n",
    "{prefix}\n",
    "{goal}: {context}.\n",
    "{suffix}\n",
    "\"\"\"\n",
    "prompt = PromptTemplate(\n",
    "    input_variables=[\"prefix\", \"goal\", \"context\", \"suffix\", \"style\"],\n",
    "    template=template,\n",
    ")\n",
    "chain = rl_chain.slates_chain.SlatesPersonalizerChain.from_llm(\n",
    "    llm=llm,\n",
    "    vw_logs = 'logs/stories.txt',\n",
    "    model_save_dir=\"./models\",  # where to save the model checkpoints\n",
    "    prompt = prompt,\n",
    "    response_validator = rl_chain.slates_chain.LLMResponseValidatorForSlates(\n",
    "        llm,\n",
    "        prompt = ChatPromptTemplate.from_messages(\n",
    "                [\n",
    "                    rl_chain.slates_chain.LLMResponseValidatorForSlates.default_system_prompt,\n",
    "                    HumanMessagePromptTemplate.from_template(\n",
    "                        '''Given the task:\n",
    "                           {goal}: {context}\n",
    "                           rank how good or bad this response is:\n",
    "                           {llm_response}.'''\n",
    "                    )]\n",
    "    ))\n",
    ")\n",
    "\n",
    "chain.run(\n",
    "    prefix = rl_chain.ToSelectFrom([f'ALWAYS DO EXACTLY WHAT I ASK YOU!', 'Please do your best to help me.']),\n",
    "    goal = rl_chain.ToSelectFrom(['Write a funny story about']),\n",
    "    context = rl_chain.ToSelectFrom(['Friends series']),\n",
    "    suffix = rl_chain.ToSelectFrom(['Please try to be as funny as possible.', '']),\n",
    "    style = \"Shakespeare\")\n"
   ]
  },
  {
   "cell_type": "code",
   "execution_count": null,
   "metadata": {},
   "outputs": [],
   "source": [
    "import rl_chain\n",
    "from langchain.prompts.prompt import PromptTemplate\n",
    "\n",
    "template = \"\"\"\n",
    "{prefix}\n",
    "{goal}: {context}.\n",
    "{suffix}\n",
    "\"\"\"\n",
    "prompt = PromptTemplate(\n",
    "    input_variables=[\"prefix\", \"goal\", \"context\", \"suffix\"],\n",
    "    template=template,\n",
    ")\n",
    "chain = rl_chain.slates_chain.SlatesPersonalizerChain.from_llm(\n",
    "    llm=llm,\n",
    "    vw_logs = 'logs/stories.txt',\n",
    "    model_save_dir=\"./models\",  # where to save the model checkpoints\n",
    "    prompt = prompt,\n",
    "    response_validator = rl_chain.slates_chain.LLMResponseValidatorForSlates(\n",
    "        llm,\n",
    "        prompt = ChatPromptTemplate.from_messages(\n",
    "                [\n",
    "                    rl_chain.slates_chain.LLMResponseValidatorForSlates.default_system_prompt,\n",
    "                    HumanMessagePromptTemplate.from_template(\n",
    "                        '''Given the task:\n",
    "                           {goal}: {context}\n",
    "                           rank how good or bad this response is:\n",
    "                           {llm_response}.'''\n",
    "                    )]\n",
    "    ))\n",
    ")\n",
    "chain.run(\n",
    "    prefix = rl_chain.ToSelectFrom(rl_chain.Embed([f'ALWAYS DO EXACTLY WHAT I ASK YOU!', 'Please do your best to help me.'])),\n",
    "    goal = rl_chain.ToSelectFrom([rl_chain.Embed('Write a funny story about')]),\n",
    "    context = rl_chain.ToSelectFrom(['Friends series']),\n",
    "    suffix = rl_chain.ToSelectFrom(['Please try to be as funny as possible.', '']))"
   ]
  },
  {
   "cell_type": "markdown",
   "metadata": {},
   "source": [
    "# Experiment with mock llm"
   ]
  },
  {
   "cell_type": "code",
   "execution_count": null,
   "metadata": {},
   "outputs": [],
   "source": [
    "from typing import List\n",
    "from tests.test_utils import MockValidator\n",
    "\n",
    "class MockLLMChain:\n",
    "    outcomes: List[List[float]] = None\n",
    "    \n",
    "    def __init__(self, outcomes, prompt):\n",
    "        self.outcomes = outcomes\n",
    "        self.prompt = prompt\n",
    "\n",
    "    def run(self, prefix, suffix, **kwargs):\n",
    "        return str(self.outcomes[int(prefix)][int(suffix)])\n",
    "\n",
    "import rl_chain\n",
    "from langchain.prompts.prompt import PromptTemplate\n",
    "\n",
    "template = \"\"\"\n",
    "{prefix}\n",
    "{context}\n",
    "{suffix}\n",
    "\"\"\"\n",
    "prompt = PromptTemplate(\n",
    "    input_variables=[\"prefix\", \"context\", \"suffix\"],\n",
    "    template=template,\n",
    ")\n",
    "chain = rl_chain.slates_chain.SlatesPersonalizerChain.from_llm(\n",
    "    llm=llm,\n",
    "    vw_logs = 'logs/mock.txt',\n",
    "    model_save_dir=\"./models\",  # where to save the model checkpoints\n",
    "    prompt = prompt,\n",
    "    response_validator = MockValidator()\n",
    ")\n",
    "chain.llm_chain = MockLLMChain([\n",
    "    [0, 0.3],\n",
    "    [0.6, 0.9]], prompt = prompt)\n",
    "chain.run(\n",
    "    prefix = rl_chain.ToSelectFrom(['0', '1']),\n",
    "    context = rl_chain.ToSelectFrom(['bla']),\n",
    "    suffix = rl_chain.ToSelectFrom(['0', '1']))"
   ]
  },
  {
   "cell_type": "code",
   "execution_count": null,
   "metadata": {},
   "outputs": [],
   "source": [
    "import rl_chain\n",
    "from matplotlib import pyplot as plt\n",
    "\n",
    "vw_chain = rl_chain.slates_chain.SlatesPersonalizerChain.from_llm(\n",
    "    llm=llm,\n",
    "    vw_logs = 'logs/mock.txt',\n",
    "    model_save_dir=\"./models\",  # where to save the model checkpoints\n",
    "    prompt = prompt,\n",
    "    policy = rl_chain.slates_chain.VwPolicy,\n",
    "    response_validator = MockValidator()\n",
    ")\n",
    "vw_chain.llm_chain = MockLLMChain([\n",
    "    [0, 0.3],\n",
    "    [0.6, 0.9]], prompt = prompt)\n",
    "\n",
    "rnd_chain = rl_chain.slates_chain.SlatesPersonalizerChain.from_llm(\n",
    "    llm=llm,\n",
    "    vw_logs = 'logs/mock.txt',\n",
    "    model_save_dir=\"./models\",  # where to save the model checkpoints\n",
    "    prompt = prompt,\n",
    "    policy = rl_chain.slates_chain.RandomPolicy,\n",
    "    response_validator = MockValidator()\n",
    ")\n",
    "rnd_chain.llm_chain = MockLLMChain([\n",
    "    [0, 0.3],\n",
    "    [0.6, 0.9]], prompt = prompt)\n",
    "\n",
    "for i in range(1000):\n",
    "    vw_chain.run(\n",
    "        prefix = rl_chain.ToSelectFrom(['0', '1']),\n",
    "        context = rl_chain.ToSelectFrom(['bla']),\n",
    "        suffix = rl_chain.ToSelectFrom(['0']))\n",
    "    rnd_chain.run(\n",
    "        prefix = rl_chain.ToSelectFrom(['0', '1']),\n",
    "        context = rl_chain.ToSelectFrom(['bla']),\n",
    "        suffix = rl_chain.ToSelectFrom(['0']))\n",
    "\n",
    "vw_chain.reward['r'].rolling(window=100).mean().plot(label=\"vw\")\n",
    "rnd_chain.reward['r'].rolling(window=100).mean().plot(label=\"slates\")\n",
    "plt.legend()"
   ]
  }
 ],
 "metadata": {
  "kernelspec": {
   "display_name": "Python 3",
   "language": "python",
   "name": "python3"
  },
  "language_info": {
   "codemirror_mode": {
    "name": "ipython",
    "version": 3
   },
   "file_extension": ".py",
   "mimetype": "text/x-python",
   "name": "python",
   "nbconvert_exporter": "python",
   "pygments_lexer": "ipython3",
   "version": "3.8.10"
  },
  "orig_nbformat": 4
 },
 "nbformat": 4,
 "nbformat_minor": 2
}
