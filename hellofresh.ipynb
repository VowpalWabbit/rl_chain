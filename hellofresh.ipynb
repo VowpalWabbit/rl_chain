{
 "cells": [
  {
   "cell_type": "code",
   "execution_count": null,
   "metadata": {},
   "outputs": [],
   "source": [
    "class HelloFreshItem:\n",
    "    def __init__(self, name: str, desc: str, difficulty: str, tags: str):\n",
    "        try:\n",
    "            self.name = name\n",
    "            self.desc = desc\n",
    "            self.diff = difficulty\n",
    "            self.tags = tags\n",
    "        except:\n",
    "            print(name)\n",
    "            raise ValueError"
   ]
  },
  {
   "cell_type": "code",
   "execution_count": null,
   "metadata": {},
   "outputs": [],
   "source": [
    "## Actions\n",
    "## examples copied from hello fresh website\n",
    "actions = []\n",
    "actions.append(HelloFreshItem(name=\"One-Pan Beef Enchiladas Verdes with Mexican Cheese Blend & Hot Sauce Crema\", difficulty=\"Easy\", tags=\"Spicy, Easy Cleanup, Easy Prep\", desc=\"When it comes to Mexican-style cuisine, burritos typically get all the glory. In our humble opinion, enchiladas are an unsung dinner hero. They’re technically easier-to-assemble burritos that get smothered in a delicious sauce, but they’re really so much more than that! Ours start with spiced beef and charred green pepper that get rolled up in warm tortillas. This winning combo gets topped with tangy salsa verde and cheese, then baked until bubbly and melty. Hear that? That’s the sound of the dinner bell!\"))\n",
    "actions.append(HelloFreshItem(name=\"Chicken & Mushroom Flatbreads with Gouda Cream Sauce & Parmesan\", difficulty=\"Easy\", tags=\"\", desc=\"Yes we love our simple cheese pizza with red sauce but tonight, move over, marinara—there’s a new sauce in town. In this recipe, crispy flatbreads are slathered with a rich, creamy gouda-mustard sauce we just can’t get enough of. We top that off with a pile of caramelized onion and earthy cremini mushrooms. Shower with Parmesan, and that’s it. Simple, satisfying, and all in 30 minutes–a dinner idea you can’t pass up!\"))\n",
    "actions.append(HelloFreshItem(name=\"Sweet Potato & Pepper Quesadillas with Southwest Crema & Tomato Salsa\", difficulty=\"Easy\", tags=\"Veggie\", desc=\"This quesadilla is jam-packed with flavorful roasted sweet potato and green pepper, plus two types of gooey, melty cheese (how could we choose just one?!). Of course, we’d never forget the toppings—there’s a fresh tomato salsa and dollops of spiced lime crema. Now for the fun part: piling on a little bit of everything to construct the perfect bite!\"))\n",
    "actions.append(HelloFreshItem(name=\"One-Pan Trattoria Tortelloni Bake with a Crispy Parmesan Panko Topping\", difficulty=\"Easy\", tags=\"Veggie, Easy Cleanup, Easy Prep\", desc=\"Think a cheesy stuffed pasta can’t get any better? What about baking it in a creamy sauce with a crispy topping? In this recipe, we toss cheese-stuffed tortelloni in an herby tomato cream sauce, then top with Parmesan and panko breadcrumbs. Once broiled, it turns into a showstopping topping that’ll earn you plenty of oohs and aahs from your lucky fellow diners.\"))\n",
    "actions.append(HelloFreshItem(name=\"Backyard Grill Bourbon Steak plus Chive Butter, Tomato Panzanella & Grilled Zucchini\", difficulty=\"Medium\", tags=\"\", desc=\"There’s nothing quite like grilled steak to get us all in the summer mood—and this one’s extra special, thanks to our brown sugar bourbon seasoning. Grilling isn’t just for your protein: it leaves a smoky flavor on anything that hits the heat. Here, it helps add even more flavor to zucchini and ciabatta, which are tossed with fresh tomato, mozz, and balsamic vinegar for a seasonal panzanella salad. Now, add a little dollop of chive butter to your steak, take a seat in your backyard (or picture yourself there from the comfort of your cranked AC), and you’ve got yourself one dreamy summer BBQ.\"))\n",
    "actions.append(HelloFreshItem(name=\"Parmesan-Crusted Trout with Scallion Mashed Sweet Potatoes & Green Beans Amandine\", difficulty=\"Medium\", tags=\"New\", desc=\"If you’re like us, you’ll sign up for just about anything Parmesan-crusted! Who can resist a tender, flaky trout fillet spread with savory garlic-Dijon sauce and coated in a panko-Parm-scallion crust that toasts to a crisp golden brown in the oven? Serve this formidable fish with two colorful sides: creamy scallion-studded mashed sweet potatoes and nutty green beans amandine, sautéed in butter until the almonds turn golden. This is one of our most sumptuous, bistro-worthy dinner ideas yet—yours for the taking any night of the week!\"))\n",
    "actions.append(HelloFreshItem(name=\"Lemony Shrimp & Couscous Bowls with Cucumber-Tomato Salad & Creamy Yogurt Sauce\", difficulty=\"Easy\", tags=\"Calorie Smart, Mediterranean\", desc=\"Bowls are way past “having a moment.” They’ve become a go-to when we’re looking for lunch and dinner ideas. Why? It’s simple: everything’s better in a bowl! And the customizable combo of carbs, protein, veggies, and a drizzle of delicious sauce cannot be denied. This bright rendition is fully loaded. Chewy Israeli couscous with scallions is topped with garlicky quick-cooking shrimp, a fresh cucumber-tomato salad, and a creamy lemon-dill sauce. One bite = totally bowled over.\"))\n",
    "actions.append(HelloFreshItem(name=\"Hail Chicken Caesar Wraps with Parmesan & Tomato\", difficulty=\"Easy\", tags=\"New, Protein Smart, Quick, Easy Cleanup, Easy Prep\", desc=\"All hail this 20-minute salad wrap dinner idea! It’s light, creamy, and bursting with texture and flavor. Here’s how: While Italian-seasoned chicken is searing to perfection, you’ll whip up a lemony, creamy Caesar dressing. Then, it’s time to wrap! Layers of savory chicken, juicy tomato, crisp dressed baby lettuce, and lots of Parmesan mingle in warm tortillas for a dinnertime coup the likes of which Brutus would be proud. Et tu, Chef?\"))\n",
    "actions.append(HelloFreshItem(name=\"Vegan Sun-Dried Tomato & Spinach Pasta with Lemony Toasted Breadcrumbs & Parsley\", difficulty=\"Medium\", tags=\"New, Vegan\", desc=\"Did you know that sun-dried tomatoes are the secret to pasta sauce with sweet, rich tomato flavor (without hours of stovetop simmering?) Now you do! And if you’re looking for a plant-based version that’s lusciously creamy and packed with wholesome veggies, you’ve come to the right kitchen—yours! In just 25 minutes, you’ll be twirling up a bowl of creamy tomato spaghetti with loads of fresh spinach, garlic, lemon zest, and a crunchy panko breadcrumb topping that takes this vegan dinner idea straight to restaurant-level.\"))\n",
    "actions.append(HelloFreshItem(name=\"Prosciutto-Wrapped Swiss Chicken with Creamy Rigatoni, Spinach & Toasted Panko\", difficulty=\"Medium\", tags=\"\", desc=\"We love a simple chicken breast. But sometimes you want a more creative dinner idea. In this recipe, our chefs drew inspiration from Italian saltimbocca. The meat is wrapped in slices of salty, luscious prosciutto, seared until it’s delightfully crisp, then roasted with Swiss cheese on top (If you’re lucky, the Swiss melts off the sides for those crispy cheese edges!). It’s served over creamy rigatoni with fresh spinach and a crunchy panko topping—a flavor and texture extravaganza!\"))\n",
    "actions.append(HelloFreshItem(name=\"Sweet n Spicy Apricot Chicken with Broccoli & Garlic Rice\", difficulty=\"Easy\", tags=\"Calorie Smart, Protein Smart\", desc=\"This chicken dinner is a little bit sweet, a little bit spicy, and all around tasty! Juicy chicken cutlets are drizzled with a tangy sauce of apricot jam, ponzu sauce, Sriracha, and butter. On the side, there’s fluffy, aromatic garlic rice, plus tender roasted broccoli. Fruity flavor with a dash of heat? This combo can’t be beat!\"))\n",
    "actions.append(HelloFreshItem(name=\"Chicken & Sweet Potato Lettuce Wraps with Bulgur, Dill, Feta & Apricot Aioli\", difficulty=\"Medium\", tags=\"Spicy, Protein Smart\", desc=\"Vegetarian dinner ideas are our meat and potatoes, and these veggie wraps are bursting with bold flavors. First, onion and sweet potato, seasoned with garlic and smoky, spicy harissa, are roasted until tender. Next, fluffy whole-grain bulgur is tossed with sunflower seeds and feta. It’s all piled into crisp lettuce leaves, drizzled with an apricot-mustard-garlic aioli, and sprinkled with dill and more feta. Tasty, nutritious, and light–now THAT’S a wrap.\"))\n",
    "actions.append(HelloFreshItem(name=\"Hoisin-Glazed Cauliflower & Shrimp Bowls with Loaded Veggie Rice & Sesame Seeds\", difficulty=\"Medium\", tags=\"New, Spicy\", desc=\"This vegan dinner idea is one balanced flavor bomb of a meal, thanks to some of our favorite umami-rich condiments. Crisp-roasted cauliflower is coated in a velvety blend of hoisin, katsu sauce, and sweet Thai chili sauce—a combination that’s hard to beat! Fragrant fried rice, bejeweled with tender-crisp carrots and sweet peas, is the perfect bed for nestling the savory-sweet glazed cauliflower. Finish with a sprinkle of scallion greens and nutty sesame seeds for crunchy contrast.\"))\n",
    "actions.append(HelloFreshItem(name=\"Beef Tenderloin with Balsamic Mushroom Sauce plus Mashed Potatoes & Scallions\", difficulty=\"Medium\", tags=\"New, Calorie Smart\", desc=\"The tangy-savory balsamic mushroom sauce that cascades over juicy pork chops makes this meal something extra-special! (Okay, let’s not forget the buttery sour cream and scallion mashed potatoes, which might actually be why you’re here—no judgments!). Our chefs based this sauce on Italian agrodolce, which means “sour-sweet.” Their spin is beautifully balanced and lightly sweet with bright acidity, plus a touch of heat from red pepper jam. Pile those creamy potatoes on the side, add a sprinkle of scallion greens for a fresh crunch and pop of color, and you’re in for a sumptuously satisfying dinner adventure.\"))\n",
    "actions.append(HelloFreshItem(name=\"Spicy Coconut Curry Turkey Noodle Soup with Bok Choy, Napa Cabbage & Lime\", difficulty=\"Easy\", tags=\"Spicy, Quick\", desc=\"This coconut curry soup warms our hearts (and our palates!). Our chefs made tonights’ soup with ground pork, slurpable ramen noodles, fresh bok choy and cabbage, and all the craveable coconut curry and chili flavors. Curl up in your favorite spot, because you’re about to be warmed from head to toe with this delicious, spicy soup.\"))\n",
    "actions.append(HelloFreshItem(name=\"Southwest Turkey-Stuffed Zucchini Boats with Pico de Gallo, Avocado Crema & Cilantro\", difficulty=\"Medium\", tags=\"\", desc=\"Send your taste buds on a flavorful cruise with this crowd-pleasing stuffed zucchini. These boats are filled with Southwest-spiced rice, then blanketed with a layer of kickin’ pepper jack cheese, and finished with fresh pico de gallo, avocado crema, cilantro, sour cream, and hot sauce. There’s something about this recipe that’ll really put the wind back in your sails.\"))\n",
    "actions.append(HelloFreshItem(name=\"Beef & Sweet Potato Quesadillas with Green Pepper, Southwest Crema & Tomato Salsa\", difficulty=\"Easy\", tags=\"\", desc=\"This quesadilla is jam-packed with flavorful roasted sweet potato and green pepper, plus two types of gooey, melty cheese (how could we choose just one?!). Of course, we’d never forget the toppings—there’s a fresh tomato salsa and dollops of spiced lime crema. Now for the fun part: piling on a little bit of everything to construct the perfect bite!\"))\n",
    "actions.append(HelloFreshItem(name=\"Huevos Rancheros with Fried Eggs, Guacamole, Cheese & Lime Crema\", difficulty=\"Easy\", tags=\"New, Veggie\", desc=\"If you're a fan of breakfast for dinner, this is 100% the meal for you! Get ready for our spin on the classic Mexican breakfast of warm tortillas loaded with creamy refried black beans, topped with savory tomato sauce and eggs fried just the way you like them. Dollop it all with guacamole, drizzle with tangy lime crema, then sprinkle with a blend of Mexican cheeses and crisp scallion greens (and hey, you might just want it for breakfast, too!)\"))\n",
    "actions.append(HelloFreshItem(name=\"Sizzling Steak Taco Bar Elevated Dinners, Impressively Easy\", difficulty=\"Medium\", tags=\"New, Quick\", desc=\"Prep, sizzle, zap, serve: Four easy steps to our fastest, freshest weeknight meal yet. Thanks to a few clever time-savers from our chefs, you and yours will be bellying up to your own steak taco bar in just 15 minutes! Quick-sear sliced steak with pepper, onion, and spices; then squeeze on the lime juice, set out the fixins—warm tortillas, pico de gallo, guacamole, cheese, and red pepper crema—and everyone can build their own fresh, flavorful dinner in a flash!\"))\n",
    "actions.append(HelloFreshItem(name=\"Apple, Ricotta & Hot Honey Toasts with Arugula Walnut Salad\", difficulty=\"Easy\", tags=\"Veggie, Quick\", desc=\"The best thing since sliced bread? Toasted bread! Though delicious on its own, carby comfort gets worlds better in the hands of our talented chefs. Sliced sourdough is toasted until golden then spread with creamy, lemon-kissed ricotta. Juicy apple and crunchy walnuts top the toasts, followed with a golden drizzle of hot honey. A tangle of peppery arugula-apple-walnut salad provides welcome contrast. Truly a toast with the most.\"))\n",
    "actions.append(HelloFreshItem(name=\"Mexican Chicken & Rice Bowls with Chicken Thighs, Salsa Fresca & Lime Sour Cream\", difficulty=\"Easy\", tags=\"Quick\", desc=\"The beauty of a bowl-style dinner is the DIY element. This meal begins with aromatic yellow rice and Southwest-spiced and juicy dark meat chicken, all jazzed up with homemade salsa and a limey crema. When ready to build your bowl, feel free to go crazy with assembly. Crema on bottom! Rice on top of chicken! Hot sauce on everything!!\"))\n",
    "actions.append(HelloFreshItem(name=\"Miso-Sesame Shrimp & Bacon Ramen in Gochujang Broth with Bok Choy, Cabbage & Corn\", difficulty=\"Medium\", tags=\"\", desc=\"Miso adds complexity and rich umami flavor to many Japanese dishes. For this big, steaming ramen bowl, miso is concentrated into a base for broth, then simmered with gochujang sauce, bok choy, corn, and napa cabbage. The soup is ladled over springy ramen noodles and topped with sesame shrimp and crispy bacon for a warming and soul-satisfying meal. You’ll have extra noodles too—perfect for a cozy night in, shared with friends!\"))\n",
    "actions.append(HelloFreshItem(name=\"Moo Shu Beef Bowls with Cabbage, Scallions & Buttery Rice\", difficulty=\"Easy\", tags=\"Quick\", desc=\"This saucy, sweet, and spicy dish is ready in just 15 minutes—that’s faster than it takes to order delivery! Ground pork is browned with crisp cabbage and scallions, then simmered in a bold, punchy sauce of hoisin, Thai chili sauce, sweet soy glaze, and lime juice. It’s all spooned over buttery rice and garnished with sesame seeds for a nutty crunch. Prepare to be bowled over!\"))\n",
    "actions.append(HelloFreshItem(name=\"Firehouse Cheeseburgers with Fried Onions, Garlic Asparagus & Creamy Ranch Sauce\", difficulty=\"Medium\", tags=\"Spicy\", desc=\"If you love hot sauce with every meal, these burgers are for you. We blend ground beef patties with both tangy hot sauce AND Frank’s seasoning for layers of spicy, zesty flavor, then top them with Monterey Jack for the melt-factor. They’re sandwiched between toasted potato buns and topped with crispy fried onions and a generous swipe of creamy ranch for cooling contrast. After all, how does that old saying go—“hot sauce and spice makes everything nice”? That sounds right to us.\"))\n",
    "actions.append(HelloFreshItem(name=\"Thai Chili Coconut Smashed Beef Patties with Zesty Rice, Roasted Green Beans & Peanuts\", difficulty=\"Easy\", tags=\"\", desc=\"If you take a meatball and smash it flat before cooking, a little kitchen magic happens: All those jagged, craggy edges that form get extra crisp and caramelized when roasting in the oven. Coat those patties with a sweet and spicy Thai chili coconut pan sauce and serve over zesty rice along with tender green beans. Finish with a scattering of roasted peanuts and squeezes of lime, and you’ve taken the humble meatball into fiercely delicious territory!\"))\n",
    "actions.append(HelloFreshItem(name=\"Citrusy Tex-Mex Chicken with Spiced Veggie Jumble & Lime Crema\", difficulty=\"Medium\", tags=\"New, Spicy, Calorie Smart, Carb Smart\", desc=\"Juicy pork tenderloin loves a little something sweet, and sweetness pairs beautifully with a little spicy heat! Lucky you—tonight’s dinner has it all. Succulent pork is seasoned with our Southwest Spice Blend, seared, then roasted to perfection beside a colorful array of sweet potatoes, green bell pepper, and red onion. Top the pork with a citrusy Tex-Mex sauce made with fresh orange and lime juice, and drizzle your plate with cool, tangy lime crema just before serving. Cheers to perfect pairings!\"))\n",
    "actions.append(HelloFreshItem(name=\"Spicy Coconut Curry Beef Noodle Soup with Bok Choy, Napa Cabbage & Lime\", difficulty=\"Easy\", tags=\"Spicy, Quick\", desc=\"This coconut curry soup warms our hearts (and our palates!). Our chefs made tonights’ soup with ground pork, slurpable ramen noodles, fresh bok choy and cabbage, and all the craveable coconut curry and chili flavors. Curl up in your favorite spot, because you’re about to be warmed from head to toe with this delicious, spicy soup.\"))\n",
    "actions.append(HelloFreshItem(name=\"Turkey & Sweet Potato Lettuce Wraps with Bulgur, Dill, Feta & Apricot Aioli\", difficulty=\"Medium\", tags=\"Spicy\", desc=\"Vegetarian dinner ideas are our meat and potatoes, and these veggie wraps are bursting with bold flavors. First, onion and sweet potato, seasoned with garlic and smoky, spicy harissa, are roasted until tender. Next, fluffy whole-grain bulgur is tossed with sunflower seeds and feta. It’s all piled into crisp lettuce leaves, drizzled with an apricot-mustard-garlic aioli, and sprinkled with dill and more feta. Tasty, nutritious, and light–now THAT’S a wrap.\"))\n",
    "actions.append(HelloFreshItem(name=\"Vegan Thai Coconut Curry Tofu with Bell Pepper & Cilantro Lime Cauliflower Rice\", difficulty=\"Medium\", tags=\"Vegan, Spicy, Calorie Smart, Carb Smart\", desc=\"Is there anything more comforting than Thai curry? There’s just something calming about swirling creamy coconut milk and warm curry spices with tender bell pepper and seared tofu. The flavors meld together with a hint of lime for a soothing blend of sweet and savory, and then everything’s spooned over buttery jasmine rice and sprinkled with fresh cilantro. Dinnertime stressin’ you out? No worries with curry!\"))\n",
    "actions.append(HelloFreshItem(name=\"Hoisin-Glazed Cauliflower & Turkey Bowls with Loaded Veggie Rice & Sesame Seeds\", difficulty=\"Medium\", tags=\"New, Spicy, Protein Smart\", desc=\"This vegan dinner idea is one balanced flavor bomb of a meal, thanks to some of our favorite umami-rich condiments. Crisp-roasted cauliflower is coated in a velvety blend of hoisin, katsu sauce, and sweet Thai chili sauce—a combination that’s hard to beat! Fragrant fried rice, bejeweled with tender-crisp carrots and sweet peas, is the perfect bed for nestling the savory-sweet glazed cauliflower. Finish with a sprinkle of scallion greens and nutty sesame seeds for crunchy contrast.\"))\n",
    "actions.append(HelloFreshItem(name=\"Melty Double Red Pepper Panini with Roasted Asparagus & Herbed Aioli\", difficulty=\"Medium\", tags=\"Veggie\", desc=\"When you’re pressed for time, there’s really nothing better than panini sandwiches. This version features double deliciousness with roasted bell pepper and a creamy roasted red pepper spread—but that’s not all! Sautéed zucchini and garlicky aioli are tucked in too, melded together with mozzarella between golden slices of sourdough. Roasted potato wedges are served on the side with extra aioli, and it all comes together in about 30 minutes. Yay for speedy panini!\"))\n",
    "actions.append(HelloFreshItem(name=\"Herbed Chicken Sandwiches with Saucy Onion, Lemony Potato Wedges & Creamy Pesto Sauce\", difficulty=\"Easy\", tags=\"\", desc=\"Our super-tasty riff on a classic pork chop sandwich shines a spotlight on juicy seasoned and seared boneless chops and saucy, savory thyme-infused onion cooked to rich, jammy perfection. Smear pillowy potato buns with a creamy, herbaceous pesto sauce, and serve with crispy lemon-kissed potato wedges for a hearty, satisfying sammy packed with delicious flavor.\"))\n",
    "actions.append(HelloFreshItem(name=\"Turkish-Spiced Chicken Bowls with Chickpeas, Pistachio Rice & Hummus Sauce\", difficulty=\"Medium\", tags=\"\", desc=\"A chickpea bowl is the epitome of plant-based perfection. In this bowl, Turkish-spiced chickpeas are roasted with onion wedges and grape tomatoes, then tossed with bright, tangy lemon zest. Veggies are served over a bed of fragrant basmati rice mixed with crunchy pistachios and sweet golden raisins. And since the secret’s always in the sauce, you’ll finish things off with a drizzle of herby lemon hummus that brings it all together. With so much to savor in one bowl, non-vegan dinner guests won’t even miss the meat!\"))\n",
    "actions.append(HelloFreshItem(name=\"Chicken with Balsamic Mushroom Sauce plus Mashed Potatoes & Scallions\", difficulty=\"Medium\", tags=\"New, Protein Smart, Calorie Smart\", desc=\"The tangy-savory balsamic mushroom sauce that cascades over juicy pork chops makes this meal something extra-special! (Okay, let’s not forget the buttery sour cream and scallion mashed potatoes, which might actually be why you’re here—no judgments!). Our chefs based this sauce on Italian agrodolce, which means “sour-sweet.” Their spin is beautifully balanced and lightly sweet with bright acidity, plus a touch of heat from red pepper jam. Pile those creamy potatoes on the side, add a sprinkle of scallion greens for a fresh crunch and pop of color, and you’re in for a sumptuously satisfying dinner adventure.\"))\n",
    "actions.append(HelloFreshItem(name=\"Thai Chili Coconut Smashed Turkey Patties with Zesty Rice, Roasted Green Beans & Peanuts\", difficulty=\"Easy\", tags=\"\", desc=\"If you take a meatball and smash it flat before cooking, a little kitchen magic happens: All those jagged, craggy edges that form get extra crisp and caramelized when roasting in the oven. Coat those patties with a sweet and spicy Thai chili coconut pan sauce and serve over zesty rice along with tender green beans. Finish with a scattering of roasted peanuts and squeezes of lime, and you’ve taken the humble meatball into fiercely delicious territory!\"))\n",
    "actions.append(HelloFreshItem(name=\"One-Pan Chicken Sausage Tortelloni Bake with a Crispy Parmesan Panko Topping\", difficulty=\"Easy\", tags=\"Easy Cleanup, Easy Prep\", desc=\"Think a cheesy stuffed pasta can’t get any better? What about baking it in a creamy sauce with a crispy topping? In this recipe, we toss cheese-stuffed tortelloni in an herby tomato cream sauce, then top with Parmesan and panko breadcrumbs. Once broiled, it turns into a showstopping topping that’ll earn you plenty of oohs and aahs from your lucky fellow diners.\"))\n"
   ]
  },
  {
   "cell_type": "code",
   "execution_count": null,
   "metadata": {},
   "outputs": [],
   "source": [
    "import langchain\n",
    "langchain.debug = False # set to True if  you want to see what the LLM is doing\n",
    "\n",
    "from langchain.chat_models import AzureChatOpenAI\n",
    "\n",
    "\n",
    "# assuming LLM api keys have been set in the environment\n",
    "# can use whatever LLM you want here doesn't have to be AzureChatOpenAI\n",
    "\n",
    "LLMllm = AzureChatOpenAI(\n",
    "    deployment_name=\"gpt-35-turbo\",\n",
    "    temperature=0,\n",
    "    request_timeout=20,\n",
    "    max_retries=1,\n",
    "    client=None,\n",
    ")"
   ]
  },
  {
   "cell_type": "markdown",
   "metadata": {},
   "source": [
    "##### default chain with default prompt and default reward (the LLM is used to judge and rank the response)"
   ]
  },
  {
   "cell_type": "code",
   "execution_count": null,
   "metadata": {},
   "outputs": [],
   "source": [
    "from personalizer import *\n",
    "\n",
    "# change the logging level if you want\n",
    "# logger = logging.getLogger('personalizer')\n",
    "# logger.setLevel(logging.WARNING)\n",
    "\n",
    "chain = PersonalizerChain.from_llm(\n",
    "    llm=LLMllm,\n",
    "    vw_workspace_type=PersonalizerChain.Type.CONTEXTUAL_BANDITS,\n",
    "    model_save_dir=\"./models\",  # where to save the model checkpoints\n",
    ")"
   ]
  },
  {
   "cell_type": "code",
   "execution_count": null,
   "metadata": {},
   "outputs": [],
   "source": [
    "actions_strs = []\n",
    "for action in actions:\n",
    "    actions_strs.append(\n",
    "        \"title: \"\n",
    "        + action.name\n",
    "        + \"\\n description: \"\n",
    "        + action.desc\n",
    "        + \"\\n tags: \"\n",
    "        + action.tags\n",
    "    )\n",
    "\n",
    "chain.set_actions(actions_strs)"
   ]
  },
  {
   "cell_type": "code",
   "execution_count": null,
   "metadata": {},
   "outputs": [],
   "source": [
    "# MUST set context and text_to_personalize with default prompt\n",
    "inputs = {\n",
    "    \"context\": \"User: Tom, Preference: Vegetarian\",\n",
    "    \"text_to_personalize\": \"This is the weeks specialty dish, our master chefs believe you will love it!\",\n",
    "}\n",
    "\n",
    "for _ in range(1):\n",
    "    try:\n",
    "        response = chain.run(inputs)\n",
    "        print(response)\n",
    "    except Exception as e:\n",
    "        print(f\"error: {e}\")"
   ]
  },
  {
   "cell_type": "markdown",
   "metadata": {},
   "source": [
    "##### chain with custom prompt and default reward (the LLM is used to judge and rank the response)"
   ]
  },
  {
   "cell_type": "code",
   "execution_count": null,
   "metadata": {},
   "outputs": [],
   "source": [
    "from langchain.prompts.prompt import PromptTemplate\n",
    "\n",
    "_PROMPT_TEMPLATE = \"\"\"You can use the actions that were chosen by VW like so: {actions}.\n",
    "\n",
    "And use whatever other vars you want to pass into the chain at run: {some_text}. And {some_other_text}\n",
    "\n",
    "\"\"\"\n",
    "\n",
    "\n",
    "PROMPT = PromptTemplate(\n",
    "    input_variables=[\"actions\", \"some_text\", \"some_other_text\"],\n",
    "    template=_PROMPT_TEMPLATE,\n",
    ")"
   ]
  },
  {
   "cell_type": "code",
   "execution_count": null,
   "metadata": {},
   "outputs": [],
   "source": [
    "chain = PersonalizerChain.from_llm(\n",
    "    llm=LLMllm,\n",
    "    vw_workspace_type=PersonalizerChain.Type.CONTEXTUAL_BANDITS,\n",
    "    model_save_dir=\"./models\",  # where to save the model checkpoints\n",
    "    prompt=PROMPT,\n",
    ")"
   ]
  },
  {
   "cell_type": "code",
   "execution_count": null,
   "metadata": {},
   "outputs": [],
   "source": [
    "actions_strs = [\"an action\", \"another action\", \"a third action\"]\n",
    "chain.set_actions(actions_strs)"
   ]
  },
  {
   "cell_type": "code",
   "execution_count": null,
   "metadata": {},
   "outputs": [],
   "source": [
    "# don't forget to set the context though (can also be used in the prompt) because VW will use it in the Contextual Bandit call\n",
    "inputs = {\n",
    "    \"context\": \"User: Tom, Preference: Vegetarian\",\n",
    "    \"some_text\": \"This is some text\",\n",
    "    \"some_other_text\": \"This is some other text\",\n",
    "}\n",
    "\n",
    "for _ in range(1):\n",
    "    try:\n",
    "        response = chain.run(inputs)\n",
    "        print(response)\n",
    "    except Exception as e:\n",
    "        print(f\"error: {e}\")"
   ]
  },
  {
   "cell_type": "code",
   "execution_count": null,
   "metadata": {},
   "outputs": [],
   "source": [
    "# store a checkpoint to the file (overriding existing checkpoint until the chain is restarted)\n",
    "chain.save_progress()"
   ]
  }
 ],
 "metadata": {
  "kernelspec": {
   "display_name": "venv",
   "language": "python",
   "name": "python3"
  },
  "language_info": {
   "codemirror_mode": {
    "name": "ipython",
    "version": 3
   },
   "file_extension": ".py",
   "mimetype": "text/x-python",
   "name": "python",
   "nbconvert_exporter": "python",
   "pygments_lexer": "ipython3",
   "version": "3.8.10"
  },
  "orig_nbformat": 4
 },
 "nbformat": 4,
 "nbformat_minor": 2
}
