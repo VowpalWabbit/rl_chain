{
 "cells": [
  {
   "cell_type": "code",
   "execution_count": null,
   "metadata": {},
   "outputs": [],
   "source": [
    "from langchain.chat_models import AzureChatOpenAI\n",
    "\n",
    "# assuming LLM api keys have been set in the environment\n",
    "\n",
    "llm_35 = AzureChatOpenAI(\n",
    "    deployment_name=\"gpt-35-turbo\",\n",
    "    temperature=0,\n",
    "    request_timeout=20,\n",
    "    max_retries=1,\n",
    "    client=None,\n",
    ")\n",
    "\n",
    "llm_4 = AzureChatOpenAI(\n",
    "    deployment_name=\"gpt-4\",\n",
    "    temperature=0,\n",
    "    request_timeout=20,\n",
    "    max_retries=1,\n",
    "    client=None,\n",
    ")\n",
    "\n",
    "llm_35.predict('What American cartoonist is the creator of Andy Lippincott?')"
   ]
  },
  {
   "cell_type": "code",
   "execution_count": null,
   "metadata": {},
   "outputs": [],
   "source": [
    "from langchain.prompts.prompt import PromptTemplate\n",
    "\n",
    "_SIMPLE_PROMPT = \"\"\"{context}\"\"\"\n",
    "\n",
    "\n",
    "OTHER_PROMPT = PromptTemplate(\n",
    "    input_variables=[\"context\"],\n",
    "    template=_SIMPLE_PROMPT,\n",
    ")"
   ]
  },
  {
   "cell_type": "code",
   "execution_count": null,
   "metadata": {},
   "outputs": [],
   "source": [
    "from personalizer import *\n",
    "from graph_feedback_chain import *\n",
    "\n",
    "graph_chain = GraphFeedbackChain.from_llms({\"gpt-35-turbo\": llm_35, \"gpt-4\": llm_4}, prompt=OTHER_PROMPT)\n"
   ]
  },
  {
   "cell_type": "code",
   "execution_count": null,
   "metadata": {},
   "outputs": [],
   "source": [
    "inputs={\"selected\": \"gpt-35-turbo\", \"context\":\"What American cartoonise is the creator of Andy Lippincott?\"}\n",
    "\n",
    "graph_chain.run(inputs)"
   ]
  },
  {
   "cell_type": "code",
   "execution_count": null,
   "metadata": {},
   "outputs": [],
   "source": [
    "\n",
    "chain = PersonalizerChain.from_chain(\n",
    "    llm_chain=graph_chain,\n",
    "    vw_workspace_type=PersonalizerChain.Type.CONTEXTUAL_BANDITS,\n",
    "    model_save_dir=\"./gf_models\",  # where to save the model checkpoints\n",
    "    # response_checker = LLMResponseCheckerForCB(llm=llm_35),\n",
    "    vw_cmd=['--cb_explore_adf', '--quiet', '--interactions=::', '--coin', '--graph_feedback'],\n",
    "    prompt=OTHER_PROMPT,    \n",
    ")"
   ]
  },
  {
   "cell_type": "code",
   "execution_count": null,
   "metadata": {},
   "outputs": [],
   "source": [
    "inputs={\"context\":\"What American cartoonise is the creator of Andy Lippincott?\", \"actions\":[\"gpt-35-turbo\", \"gpt-4\"]}\n",
    "\n",
    "chain.run(inputs)"
   ]
  }
 ],
 "metadata": {
  "kernelspec": {
   "display_name": "venv",
   "language": "python",
   "name": "python3"
  },
  "language_info": {
   "codemirror_mode": {
    "name": "ipython",
    "version": 3
   },
   "file_extension": ".py",
   "mimetype": "text/x-python",
   "name": "python",
   "nbconvert_exporter": "python",
   "pygments_lexer": "ipython3",
   "version": "3.8.10"
  },
  "orig_nbformat": 4
 },
 "nbformat": 4,
 "nbformat_minor": 2
}
